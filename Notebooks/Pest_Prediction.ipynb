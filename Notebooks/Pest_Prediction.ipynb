{
  "nbformat": 4,
  "nbformat_minor": 0,
  "metadata": {
    "colab": {
      "provenance": [],
      "gpuType": "T4",
      "authorship_tag": "ABX9TyNGHtywiv0+2WZ34iCJhrtg",
      "include_colab_link": true
    },
    "kernelspec": {
      "name": "python3",
      "display_name": "Python 3"
    },
    "language_info": {
      "name": "python"
    },
    "accelerator": "GPU"
  },
  "cells": [
    {
      "cell_type": "markdown",
      "metadata": {
        "id": "view-in-github",
        "colab_type": "text"
      },
      "source": [
        "<a href=\"https://colab.research.google.com/github/Himanshu0518/Agroassist/blob/main/Pest_Prediction.ipynb\" target=\"_parent\"><img src=\"https://colab.research.google.com/assets/colab-badge.svg\" alt=\"Open In Colab\"/></a>"
      ]
    },
    {
      "cell_type": "code",
      "execution_count": null,
      "metadata": {
        "id": "0AJqMvnjpytI"
      },
      "outputs": [],
      "source": [
        "!mkdir -p ~/.kaggle\n",
        "!cp kaggle.json ~/.kaggle/\n",
        "!chmod 600 ~/.kaggle/kaggle.json"
      ]
    },
    {
      "cell_type": "code",
      "source": [
        "!kaggle datasets download -d vipoooool/new-plant-diseases-dataset"
      ],
      "metadata": {
        "colab": {
          "base_uri": "https://localhost:8080/"
        },
        "id": "QPEhpamkqTzC",
        "outputId": "39ec6416-a122-48b1-ffb4-76cfceb509b2"
      },
      "execution_count": null,
      "outputs": [
        {
          "output_type": "stream",
          "name": "stdout",
          "text": [
            "Dataset URL: https://www.kaggle.com/datasets/vipoooool/new-plant-diseases-dataset\n",
            "License(s): copyright-authors\n"
          ]
        }
      ]
    },
    {
      "cell_type": "code",
      "source": [
        "from zipfile import ZipFile\n",
        "file_name = \"/content/new-plant-diseases-dataset.zip\"\n",
        "with ZipFile(file_name,'r') as zip:\n",
        "  zip.extractall()\n",
        "  print('done')"
      ],
      "metadata": {
        "colab": {
          "base_uri": "https://localhost:8080/"
        },
        "id": "gYS9RrFRt3vk",
        "outputId": "aa1d7571-3292-4d3d-e08a-7ba82e9abb8d"
      },
      "execution_count": null,
      "outputs": [
        {
          "output_type": "stream",
          "name": "stdout",
          "text": [
            "done\n"
          ]
        }
      ]
    },
    {
      "cell_type": "code",
      "source": [
        "import pandas as pd\n",
        "import numpy as np\n",
        "import matplotlib.pyplot as plt\n",
        "from sklearn.pipeline import Pipeline"
      ],
      "metadata": {
        "id": "3eiAyccgZ_oo"
      },
      "execution_count": null,
      "outputs": []
    },
    {
      "cell_type": "code",
      "source": [
        "import matplotlib.image as mping"
      ],
      "metadata": {
        "id": "eLBPItrMvkGz"
      },
      "execution_count": null,
      "outputs": []
    },
    {
      "cell_type": "code",
      "source": [
        "img = mping.imread('/content/new plant diseases dataset(augmented)/New Plant Diseases Dataset(Augmented)/train/Apple___Apple_scab/00075aa8-d81a-4184-8541-b692b78d398a___FREC_Scab 3335.JPG')"
      ],
      "metadata": {
        "id": "fO9iQlKIwSdl"
      },
      "execution_count": null,
      "outputs": []
    },
    {
      "cell_type": "code",
      "source": [
        "print(type(img))\n",
        "print(img.shape)"
      ],
      "metadata": {
        "colab": {
          "base_uri": "https://localhost:8080/"
        },
        "id": "S2FJS3Y8woSG",
        "outputId": "6f3aed5d-f814-40df-a7eb-5f4ea10c28a4"
      },
      "execution_count": null,
      "outputs": [
        {
          "output_type": "stream",
          "name": "stdout",
          "text": [
            "<class 'numpy.ndarray'>\n",
            "(256, 256, 3)\n"
          ]
        }
      ]
    },
    {
      "cell_type": "code",
      "source": [
        "img"
      ],
      "metadata": {
        "colab": {
          "base_uri": "https://localhost:8080/",
          "height": 296
        },
        "id": "r46dMEqwxJgo",
        "outputId": "409b445f-b574-441a-c20d-545d4a2dfe31"
      },
      "execution_count": null,
      "outputs": [
        {
          "output_type": "execute_result",
          "data": {
            "text/plain": [
              "array([[[167, 163, 196],\n",
              "        [166, 162, 195],\n",
              "        [165, 161, 194],\n",
              "        ...,\n",
              "        [185, 182, 211],\n",
              "        [183, 180, 209],\n",
              "        [181, 178, 207]],\n",
              "\n",
              "       [[170, 166, 199],\n",
              "        [169, 165, 198],\n",
              "        [168, 164, 197],\n",
              "        ...,\n",
              "        [186, 183, 212],\n",
              "        [184, 181, 210],\n",
              "        [183, 180, 209]],\n",
              "\n",
              "       [[170, 166, 199],\n",
              "        [169, 165, 198],\n",
              "        [168, 164, 197],\n",
              "        ...,\n",
              "        [188, 185, 214],\n",
              "        [186, 183, 212],\n",
              "        [185, 182, 211]],\n",
              "\n",
              "       ...,\n",
              "\n",
              "       [[100,  90, 124],\n",
              "        [102,  92, 126],\n",
              "        [104,  94, 128],\n",
              "        ...,\n",
              "        [126, 110, 137],\n",
              "        [126, 110, 137],\n",
              "        [126, 110, 137]],\n",
              "\n",
              "       [[101,  91, 125],\n",
              "        [102,  92, 126],\n",
              "        [103,  93, 127],\n",
              "        ...,\n",
              "        [122, 106, 133],\n",
              "        [123, 107, 134],\n",
              "        [123, 107, 134]],\n",
              "\n",
              "       [[104,  94, 128],\n",
              "        [103,  93, 127],\n",
              "        [102,  92, 126],\n",
              "        ...,\n",
              "        [121, 105, 132],\n",
              "        [122, 106, 133],\n",
              "        [123, 107, 134]]], dtype=uint8)"
            ],
            "text/html": [
              "<style>\n",
              "      .ndarray_repr .ndarray_raw_data {\n",
              "        display: none;\n",
              "      }\n",
              "      .ndarray_repr.show_array .ndarray_raw_data {\n",
              "        display: block;\n",
              "      }\n",
              "      .ndarray_repr.show_array .ndarray_image_preview {\n",
              "        display: none;\n",
              "      }\n",
              "      </style>\n",
              "      <div id=\"id-362a7005-5654-43c9-9a3f-f3b621dd28d6\" class=\"ndarray_repr\"><pre>ndarray (256, 256, 3) <button style=\"padding: 0 2px;\">show data</button></pre><img src=\"data:image/png;base64,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\" class=\"ndarray_image_preview\" /><pre class=\"ndarray_raw_data\">array([[[167, 163, 196],\n",
              "        [166, 162, 195],\n",
              "        [165, 161, 194],\n",
              "        ...,\n",
              "        [185, 182, 211],\n",
              "        [183, 180, 209],\n",
              "        [181, 178, 207]],\n",
              "\n",
              "       [[170, 166, 199],\n",
              "        [169, 165, 198],\n",
              "        [168, 164, 197],\n",
              "        ...,\n",
              "        [186, 183, 212],\n",
              "        [184, 181, 210],\n",
              "        [183, 180, 209]],\n",
              "\n",
              "       [[170, 166, 199],\n",
              "        [169, 165, 198],\n",
              "        [168, 164, 197],\n",
              "        ...,\n",
              "        [188, 185, 214],\n",
              "        [186, 183, 212],\n",
              "        [185, 182, 211]],\n",
              "\n",
              "       ...,\n",
              "\n",
              "       [[100,  90, 124],\n",
              "        [102,  92, 126],\n",
              "        [104,  94, 128],\n",
              "        ...,\n",
              "        [126, 110, 137],\n",
              "        [126, 110, 137],\n",
              "        [126, 110, 137]],\n",
              "\n",
              "       [[101,  91, 125],\n",
              "        [102,  92, 126],\n",
              "        [103,  93, 127],\n",
              "        ...,\n",
              "        [122, 106, 133],\n",
              "        [123, 107, 134],\n",
              "        [123, 107, 134]],\n",
              "\n",
              "       [[104,  94, 128],\n",
              "        [103,  93, 127],\n",
              "        [102,  92, 126],\n",
              "        ...,\n",
              "        [121, 105, 132],\n",
              "        [122, 106, 133],\n",
              "        [123, 107, 134]]], dtype=uint8)</pre></div><script>\n",
              "      (() => {\n",
              "      const titles = ['show data', 'hide data'];\n",
              "      let index = 0\n",
              "      document.querySelector('#id-362a7005-5654-43c9-9a3f-f3b621dd28d6 button').onclick = (e) => {\n",
              "        document.querySelector('#id-362a7005-5654-43c9-9a3f-f3b621dd28d6').classList.toggle('show_array');\n",
              "        index = (++index) % 2;\n",
              "        document.querySelector('#id-362a7005-5654-43c9-9a3f-f3b621dd28d6 button').textContent = titles[index];\n",
              "        e.preventDefault();\n",
              "        e.stopPropagation();\n",
              "      }\n",
              "      })();\n",
              "    </script>"
            ]
          },
          "metadata": {},
          "execution_count": 10
        }
      ]
    },
    {
      "cell_type": "code",
      "source": [
        "import tensorflow as tf\n",
        "from tensorflow.keras.applications import VGG16\n",
        "from tensorflow.keras.models import Model\n",
        "from tensorflow.keras.layers import Dense, Flatten, Dropout\n",
        "from tensorflow.keras.preprocessing.image import ImageDataGenerator\n",
        "from tensorflow.keras.callbacks import EarlyStopping, ReduceLROnPlateau"
      ],
      "metadata": {
        "id": "aWi3DdH88O9Q"
      },
      "execution_count": null,
      "outputs": []
    },
    {
      "cell_type": "code",
      "source": [
        "trainning_set = tf.keras.utils.image_dataset_from_directory(\n",
        "   '/content/new plant diseases dataset(augmented)/New Plant Diseases Dataset(Augmented)/train' ,\n",
        "    labels=\"inferred\",\n",
        "    label_mode=\"categorical\",\n",
        "    class_names=None,\n",
        "    color_mode=\"rgb\",\n",
        "    batch_size=32,\n",
        "    image_size=(150, 150),\n",
        "    shuffle=True,\n",
        "    seed=None,\n",
        "    validation_split=None,\n",
        "    subset=None,\n",
        "    interpolation=\"bilinear\",\n",
        "    follow_links=False,\n",
        "    crop_to_aspect_ratio=False,\n",
        "    pad_to_aspect_ratio=False,\n",
        "    data_format=None,\n",
        "    verbose=True,\n",
        ")"
      ],
      "metadata": {
        "colab": {
          "base_uri": "https://localhost:8080/"
        },
        "id": "E2j_goAnxLFr",
        "outputId": "42f8ac69-94a5-42dc-9f4f-cdc10a6a3e4d"
      },
      "execution_count": null,
      "outputs": [
        {
          "output_type": "stream",
          "name": "stdout",
          "text": [
            "Found 70295 files belonging to 38 classes.\n"
          ]
        }
      ]
    },
    {
      "cell_type": "code",
      "source": [
        "validation_set =  tf.keras.utils.image_dataset_from_directory(\n",
        "   '/content/new plant diseases dataset(augmented)/New Plant Diseases Dataset(Augmented)/valid' ,\n",
        "    labels=\"inferred\",\n",
        "    label_mode=\"categorical\",\n",
        "    class_names=None,\n",
        "    color_mode=\"rgb\",\n",
        "    batch_size=32,\n",
        "    image_size=(150, 150),\n",
        "    shuffle=True,\n",
        "    seed=None,\n",
        "    validation_split=None,\n",
        "    subset=None,\n",
        "    interpolation=\"bilinear\",\n",
        "    follow_links=False,\n",
        "    crop_to_aspect_ratio=False,\n",
        "    pad_to_aspect_ratio=False,\n",
        "    data_format=None,\n",
        "    verbose=True,\n",
        ")"
      ],
      "metadata": {
        "colab": {
          "base_uri": "https://localhost:8080/"
        },
        "id": "KX9rHPAjZsgx",
        "outputId": "7789dbaa-4e9e-4138-91ff-0d14227bde6d"
      },
      "execution_count": null,
      "outputs": [
        {
          "output_type": "stream",
          "name": "stdout",
          "text": [
            "Found 17572 files belonging to 38 classes.\n"
          ]
        }
      ]
    },
    {
      "cell_type": "code",
      "source": [
        "print(\"Class names:\", trainning_set.class_names)"
      ],
      "metadata": {
        "colab": {
          "base_uri": "https://localhost:8080/"
        },
        "id": "bNn02jG-AONX",
        "outputId": "ba94a665-e2af-4987-fc15-c2bed55eb935"
      },
      "execution_count": null,
      "outputs": [
        {
          "output_type": "stream",
          "name": "stdout",
          "text": [
            "Class names: ['Apple___Apple_scab', 'Apple___Black_rot', 'Apple___Cedar_apple_rust', 'Apple___healthy', 'Blueberry___healthy', 'Cherry_(including_sour)___Powdery_mildew', 'Cherry_(including_sour)___healthy', 'Corn_(maize)___Cercospora_leaf_spot Gray_leaf_spot', 'Corn_(maize)___Common_rust_', 'Corn_(maize)___Northern_Leaf_Blight', 'Corn_(maize)___healthy', 'Grape___Black_rot', 'Grape___Esca_(Black_Measles)', 'Grape___Leaf_blight_(Isariopsis_Leaf_Spot)', 'Grape___healthy', 'Orange___Haunglongbing_(Citrus_greening)', 'Peach___Bacterial_spot', 'Peach___healthy', 'Pepper,_bell___Bacterial_spot', 'Pepper,_bell___healthy', 'Potato___Early_blight', 'Potato___Late_blight', 'Potato___healthy', 'Raspberry___healthy', 'Soybean___healthy', 'Squash___Powdery_mildew', 'Strawberry___Leaf_scorch', 'Strawberry___healthy', 'Tomato___Bacterial_spot', 'Tomato___Early_blight', 'Tomato___Late_blight', 'Tomato___Leaf_Mold', 'Tomato___Septoria_leaf_spot', 'Tomato___Spider_mites Two-spotted_spider_mite', 'Tomato___Target_Spot', 'Tomato___Tomato_Yellow_Leaf_Curl_Virus', 'Tomato___Tomato_mosaic_virus', 'Tomato___healthy']\n"
          ]
        }
      ]
    },
    {
      "cell_type": "code",
      "source": [
        "predicted_index = 29\n",
        "\n",
        "# Use the class_names list to map the index to a crop name:\n",
        "crop_name = trainning_set.class_names[predicted_index]\n",
        "crop_name"
      ],
      "metadata": {
        "colab": {
          "base_uri": "https://localhost:8080/",
          "height": 36
        },
        "id": "mA3i_gzqA5zr",
        "outputId": "8fc3c9b6-d2ef-4f79-c723-56f31e1f0b5e"
      },
      "execution_count": null,
      "outputs": [
        {
          "output_type": "execute_result",
          "data": {
            "text/plain": [
              "'Tomato___Early_blight'"
            ],
            "application/vnd.google.colaboratory.intrinsic+json": {
              "type": "string"
            }
          },
          "metadata": {},
          "execution_count": 33
        }
      ]
    },
    {
      "cell_type": "code",
      "source": [
        "crop_name.split('_')[-1]"
      ],
      "metadata": {
        "colab": {
          "base_uri": "https://localhost:8080/",
          "height": 36
        },
        "id": "UNV4eqpdBIX8",
        "outputId": "429d888a-86ab-4bac-d4d5-d1e1258ddf0e"
      },
      "execution_count": null,
      "outputs": [
        {
          "output_type": "execute_result",
          "data": {
            "text/plain": [
              "'blight'"
            ],
            "application/vnd.google.colaboratory.intrinsic+json": {
              "type": "string"
            }
          },
          "metadata": {},
          "execution_count": 34
        }
      ]
    },
    {
      "cell_type": "code",
      "source": [
        "# Your list of class names\n",
        "class_names = [\n",
        "    'Apple___Apple_scab', 'Apple___Black_rot', 'Apple___Cedar_apple_rust', 'Apple___healthy',\n",
        "    'Blueberry___healthy', 'Cherry_(including_sour)___Powdery_mildew', 'Cherry_(including_sour)___healthy',\n",
        "    'Corn_(maize)___Cercospora_leaf_spot Gray_leaf_spot', 'Corn_(maize)___Common_rust_',\n",
        "    'Corn_(maize)___Northern_Leaf_Blight', 'Corn_(maize)___healthy', 'Grape___Black_rot',\n",
        "    'Grape___Esca_(Black_Measles)', 'Grape___Leaf_blight_(Isariopsis_Leaf_Spot)', 'Grape___healthy',\n",
        "    'Orange___Haunglongbing_(Citrus_greening)', 'Peach___Bacterial_spot', 'Peach___healthy',\n",
        "    'Pepper,_bell___Bacterial_spot', 'Pepper,_bell___healthy', 'Potato___Early_blight',\n",
        "    'Potato___Late_blight', 'Potato___healthy', 'Raspberry___healthy', 'Soybean___healthy',\n",
        "    'Squash___Powdery_mildew', 'Strawberry___Leaf_scorch', 'Strawberry___healthy',\n",
        "    'Tomato___Bacterial_spot', 'Tomato___Early_blight', 'Tomato___Late_blight', 'Tomato___Leaf_Mold',\n",
        "    'Tomato___Septoria_leaf_spot', 'Tomato___Spider_mites Two-spotted_spider_mite',\n",
        "    'Tomato___Target_Spot', 'Tomato___Tomato_Yellow_Leaf_Curl_Virus', 'Tomato___Tomato_mosaic_virus',\n",
        "    'Tomato___healthy'\n",
        "]\n",
        "\n",
        "# Process the list to extract only the disease/pest names (i.e. non-healthy)\n",
        "pest_names = []\n",
        "for cn in class_names:\n",
        "    # Split the string on the triple underscore\n",
        "    parts = cn.split('___')\n",
        "    if len(parts) > 1:\n",
        "        disease = parts[1]\n",
        "        pest_names.append(disease)\n",
        "\n",
        "print(\"Pest/Disease names:\", pest_names)\n"
      ],
      "metadata": {
        "colab": {
          "base_uri": "https://localhost:8080/"
        },
        "id": "2tIX357HCA3L",
        "outputId": "aac5ca9a-8456-4c38-c489-f302e35ac734"
      },
      "execution_count": null,
      "outputs": [
        {
          "output_type": "stream",
          "name": "stdout",
          "text": [
            "Pest/Disease names: ['Apple_scab', 'Black_rot', 'Cedar_apple_rust', 'healthy', 'healthy', 'Powdery_mildew', 'healthy', 'Cercospora_leaf_spot Gray_leaf_spot', 'Common_rust_', 'Northern_Leaf_Blight', 'healthy', 'Black_rot', 'Esca_(Black_Measles)', 'Leaf_blight_(Isariopsis_Leaf_Spot)', 'healthy', 'Haunglongbing_(Citrus_greening)', 'Bacterial_spot', 'healthy', 'Bacterial_spot', 'healthy', 'Early_blight', 'Late_blight', 'healthy', 'healthy', 'healthy', 'Powdery_mildew', 'Leaf_scorch', 'healthy', 'Bacterial_spot', 'Early_blight', 'Late_blight', 'Leaf_Mold', 'Septoria_leaf_spot', 'Spider_mites Two-spotted_spider_mite', 'Target_Spot', 'Tomato_Yellow_Leaf_Curl_Virus', 'Tomato_mosaic_virus', 'healthy']\n"
          ]
        }
      ]
    },
    {
      "cell_type": "code",
      "source": [
        "len(class_names)"
      ],
      "metadata": {
        "colab": {
          "base_uri": "https://localhost:8080/"
        },
        "id": "sskllzSYGPRG",
        "outputId": "7afdc352-20a4-4038-8fdd-8d9cb2715294"
      },
      "execution_count": null,
      "outputs": [
        {
          "output_type": "execute_result",
          "data": {
            "text/plain": [
              "38"
            ]
          },
          "metadata": {},
          "execution_count": 36
        }
      ]
    },
    {
      "cell_type": "code",
      "source": [
        "def process(image,label):\n",
        "  import tensorflow\n",
        "  image = tensorflow.cast(image/255.0,tensorflow.float32)\n",
        "  return image,label\n",
        "\n",
        "trainning_set = trainning_set.map(process)\n",
        "validation_set = validation_set.map(process)"
      ],
      "metadata": {
        "id": "9fEOcrqkGpW9"
      },
      "execution_count": null,
      "outputs": []
    },
    {
      "cell_type": "code",
      "source": [
        "import tensorflow as tf\n",
        "print(\"GPU:\", tf.config.list_physical_devices('GPU'))\n"
      ],
      "metadata": {
        "colab": {
          "base_uri": "https://localhost:8080/"
        },
        "id": "fivTA9rRxEMO",
        "outputId": "df11f335-146d-4816-dfac-5c1cd2b4d47b"
      },
      "execution_count": null,
      "outputs": [
        {
          "output_type": "stream",
          "name": "stdout",
          "text": [
            "GPU: [PhysicalDevice(name='/physical_device:GPU:0', device_type='GPU')]\n"
          ]
        }
      ]
    },
    {
      "cell_type": "markdown",
      "source": [
        "# Custum CNN model"
      ],
      "metadata": {
        "id": "lBnCiW_88nHg"
      }
    },
    {
      "cell_type": "code",
      "source": [
        "from tensorflow.keras.models import Sequential\n",
        "from tensorflow.keras.layers import Conv2D, MaxPooling2D, Flatten, Dense, Dropout"
      ],
      "metadata": {
        "id": "U21AxxXB82Er"
      },
      "execution_count": null,
      "outputs": []
    },
    {
      "cell_type": "code",
      "source": [
        "model = Sequential()\n",
        "model.add(Conv2D(64, (3, 3), activation='relu', input_shape=(150, 150, 3)))\n",
        "model.add(MaxPooling2D((2, 2)))\n",
        "\n",
        "model.add(Conv2D(128, (3, 3), activation='relu'))\n",
        "model.add(MaxPooling2D((2, 2)))\n",
        "\n",
        "model.add(Conv2D(256, (3, 3), activation='relu'))\n",
        "model.add(MaxPooling2D((2, 2)))\n",
        "\n",
        "model.add(Flatten())\n",
        "model.add(Dense(256, activation='relu'))\n",
        "model.add(Dropout(0.5))\n",
        "model.add(Dense(38, activation='softmax'))\n"
      ],
      "metadata": {
        "id": "B3njYEsn89VL",
        "colab": {
          "base_uri": "https://localhost:8080/"
        },
        "outputId": "c3a8431c-96bf-423d-d432-51cd8912cd3e"
      },
      "execution_count": null,
      "outputs": [
        {
          "output_type": "stream",
          "name": "stderr",
          "text": [
            "/usr/local/lib/python3.11/dist-packages/keras/src/layers/convolutional/base_conv.py:107: UserWarning: Do not pass an `input_shape`/`input_dim` argument to a layer. When using Sequential models, prefer using an `Input(shape)` object as the first layer in the model instead.\n",
            "  super().__init__(activity_regularizer=activity_regularizer, **kwargs)\n"
          ]
        }
      ]
    },
    {
      "cell_type": "code",
      "source": [
        "model.compile(optimizer='adam', loss='categorical_crossentropy', metrics=['accuracy'])\n",
        "model.summary()"
      ],
      "metadata": {
        "colab": {
          "base_uri": "https://localhost:8080/",
          "height": 449
        },
        "id": "ej7LKkcz-5Mi",
        "outputId": "2edeb07e-b719-4842-f7c9-2b289149e4b3"
      },
      "execution_count": null,
      "outputs": [
        {
          "output_type": "display_data",
          "data": {
            "text/plain": [
              "\u001b[1mModel: \"sequential\"\u001b[0m\n"
            ],
            "text/html": [
              "<pre style=\"white-space:pre;overflow-x:auto;line-height:normal;font-family:Menlo,'DejaVu Sans Mono',consolas,'Courier New',monospace\"><span style=\"font-weight: bold\">Model: \"sequential\"</span>\n",
              "</pre>\n"
            ]
          },
          "metadata": {}
        },
        {
          "output_type": "display_data",
          "data": {
            "text/plain": [
              "┏━━━━━━━━━━━━━━━━━━━━━━━━━━━━━━━━━━━━━━┳━━━━━━━━━━━━━━━━━━━━━━━━━━━━━┳━━━━━━━━━━━━━━━━━┓\n",
              "┃\u001b[1m \u001b[0m\u001b[1mLayer (type)                        \u001b[0m\u001b[1m \u001b[0m┃\u001b[1m \u001b[0m\u001b[1mOutput Shape               \u001b[0m\u001b[1m \u001b[0m┃\u001b[1m \u001b[0m\u001b[1m        Param #\u001b[0m\u001b[1m \u001b[0m┃\n",
              "┡━━━━━━━━━━━━━━━━━━━━━━━━━━━━━━━━━━━━━━╇━━━━━━━━━━━━━━━━━━━━━━━━━━━━━╇━━━━━━━━━━━━━━━━━┩\n",
              "│ conv2d (\u001b[38;5;33mConv2D\u001b[0m)                      │ (\u001b[38;5;45mNone\u001b[0m, \u001b[38;5;34m148\u001b[0m, \u001b[38;5;34m148\u001b[0m, \u001b[38;5;34m64\u001b[0m)        │           \u001b[38;5;34m1,792\u001b[0m │\n",
              "├──────────────────────────────────────┼─────────────────────────────┼─────────────────┤\n",
              "│ max_pooling2d (\u001b[38;5;33mMaxPooling2D\u001b[0m)         │ (\u001b[38;5;45mNone\u001b[0m, \u001b[38;5;34m74\u001b[0m, \u001b[38;5;34m74\u001b[0m, \u001b[38;5;34m64\u001b[0m)          │               \u001b[38;5;34m0\u001b[0m │\n",
              "├──────────────────────────────────────┼─────────────────────────────┼─────────────────┤\n",
              "│ conv2d_1 (\u001b[38;5;33mConv2D\u001b[0m)                    │ (\u001b[38;5;45mNone\u001b[0m, \u001b[38;5;34m72\u001b[0m, \u001b[38;5;34m72\u001b[0m, \u001b[38;5;34m128\u001b[0m)         │          \u001b[38;5;34m73,856\u001b[0m │\n",
              "├──────────────────────────────────────┼─────────────────────────────┼─────────────────┤\n",
              "│ max_pooling2d_1 (\u001b[38;5;33mMaxPooling2D\u001b[0m)       │ (\u001b[38;5;45mNone\u001b[0m, \u001b[38;5;34m36\u001b[0m, \u001b[38;5;34m36\u001b[0m, \u001b[38;5;34m128\u001b[0m)         │               \u001b[38;5;34m0\u001b[0m │\n",
              "├──────────────────────────────────────┼─────────────────────────────┼─────────────────┤\n",
              "│ conv2d_2 (\u001b[38;5;33mConv2D\u001b[0m)                    │ (\u001b[38;5;45mNone\u001b[0m, \u001b[38;5;34m34\u001b[0m, \u001b[38;5;34m34\u001b[0m, \u001b[38;5;34m256\u001b[0m)         │         \u001b[38;5;34m295,168\u001b[0m │\n",
              "├──────────────────────────────────────┼─────────────────────────────┼─────────────────┤\n",
              "│ max_pooling2d_2 (\u001b[38;5;33mMaxPooling2D\u001b[0m)       │ (\u001b[38;5;45mNone\u001b[0m, \u001b[38;5;34m17\u001b[0m, \u001b[38;5;34m17\u001b[0m, \u001b[38;5;34m256\u001b[0m)         │               \u001b[38;5;34m0\u001b[0m │\n",
              "├──────────────────────────────────────┼─────────────────────────────┼─────────────────┤\n",
              "│ flatten (\u001b[38;5;33mFlatten\u001b[0m)                    │ (\u001b[38;5;45mNone\u001b[0m, \u001b[38;5;34m73984\u001b[0m)               │               \u001b[38;5;34m0\u001b[0m │\n",
              "├──────────────────────────────────────┼─────────────────────────────┼─────────────────┤\n",
              "│ dense (\u001b[38;5;33mDense\u001b[0m)                        │ (\u001b[38;5;45mNone\u001b[0m, \u001b[38;5;34m256\u001b[0m)                 │      \u001b[38;5;34m18,940,160\u001b[0m │\n",
              "├──────────────────────────────────────┼─────────────────────────────┼─────────────────┤\n",
              "│ dropout (\u001b[38;5;33mDropout\u001b[0m)                    │ (\u001b[38;5;45mNone\u001b[0m, \u001b[38;5;34m256\u001b[0m)                 │               \u001b[38;5;34m0\u001b[0m │\n",
              "├──────────────────────────────────────┼─────────────────────────────┼─────────────────┤\n",
              "│ dense_1 (\u001b[38;5;33mDense\u001b[0m)                      │ (\u001b[38;5;45mNone\u001b[0m, \u001b[38;5;34m38\u001b[0m)                  │           \u001b[38;5;34m9,766\u001b[0m │\n",
              "└──────────────────────────────────────┴─────────────────────────────┴─────────────────┘\n"
            ],
            "text/html": [
              "<pre style=\"white-space:pre;overflow-x:auto;line-height:normal;font-family:Menlo,'DejaVu Sans Mono',consolas,'Courier New',monospace\">┏━━━━━━━━━━━━━━━━━━━━━━━━━━━━━━━━━━━━━━┳━━━━━━━━━━━━━━━━━━━━━━━━━━━━━┳━━━━━━━━━━━━━━━━━┓\n",
              "┃<span style=\"font-weight: bold\"> Layer (type)                         </span>┃<span style=\"font-weight: bold\"> Output Shape                </span>┃<span style=\"font-weight: bold\">         Param # </span>┃\n",
              "┡━━━━━━━━━━━━━━━━━━━━━━━━━━━━━━━━━━━━━━╇━━━━━━━━━━━━━━━━━━━━━━━━━━━━━╇━━━━━━━━━━━━━━━━━┩\n",
              "│ conv2d (<span style=\"color: #0087ff; text-decoration-color: #0087ff\">Conv2D</span>)                      │ (<span style=\"color: #00d7ff; text-decoration-color: #00d7ff\">None</span>, <span style=\"color: #00af00; text-decoration-color: #00af00\">148</span>, <span style=\"color: #00af00; text-decoration-color: #00af00\">148</span>, <span style=\"color: #00af00; text-decoration-color: #00af00\">64</span>)        │           <span style=\"color: #00af00; text-decoration-color: #00af00\">1,792</span> │\n",
              "├──────────────────────────────────────┼─────────────────────────────┼─────────────────┤\n",
              "│ max_pooling2d (<span style=\"color: #0087ff; text-decoration-color: #0087ff\">MaxPooling2D</span>)         │ (<span style=\"color: #00d7ff; text-decoration-color: #00d7ff\">None</span>, <span style=\"color: #00af00; text-decoration-color: #00af00\">74</span>, <span style=\"color: #00af00; text-decoration-color: #00af00\">74</span>, <span style=\"color: #00af00; text-decoration-color: #00af00\">64</span>)          │               <span style=\"color: #00af00; text-decoration-color: #00af00\">0</span> │\n",
              "├──────────────────────────────────────┼─────────────────────────────┼─────────────────┤\n",
              "│ conv2d_1 (<span style=\"color: #0087ff; text-decoration-color: #0087ff\">Conv2D</span>)                    │ (<span style=\"color: #00d7ff; text-decoration-color: #00d7ff\">None</span>, <span style=\"color: #00af00; text-decoration-color: #00af00\">72</span>, <span style=\"color: #00af00; text-decoration-color: #00af00\">72</span>, <span style=\"color: #00af00; text-decoration-color: #00af00\">128</span>)         │          <span style=\"color: #00af00; text-decoration-color: #00af00\">73,856</span> │\n",
              "├──────────────────────────────────────┼─────────────────────────────┼─────────────────┤\n",
              "│ max_pooling2d_1 (<span style=\"color: #0087ff; text-decoration-color: #0087ff\">MaxPooling2D</span>)       │ (<span style=\"color: #00d7ff; text-decoration-color: #00d7ff\">None</span>, <span style=\"color: #00af00; text-decoration-color: #00af00\">36</span>, <span style=\"color: #00af00; text-decoration-color: #00af00\">36</span>, <span style=\"color: #00af00; text-decoration-color: #00af00\">128</span>)         │               <span style=\"color: #00af00; text-decoration-color: #00af00\">0</span> │\n",
              "├──────────────────────────────────────┼─────────────────────────────┼─────────────────┤\n",
              "│ conv2d_2 (<span style=\"color: #0087ff; text-decoration-color: #0087ff\">Conv2D</span>)                    │ (<span style=\"color: #00d7ff; text-decoration-color: #00d7ff\">None</span>, <span style=\"color: #00af00; text-decoration-color: #00af00\">34</span>, <span style=\"color: #00af00; text-decoration-color: #00af00\">34</span>, <span style=\"color: #00af00; text-decoration-color: #00af00\">256</span>)         │         <span style=\"color: #00af00; text-decoration-color: #00af00\">295,168</span> │\n",
              "├──────────────────────────────────────┼─────────────────────────────┼─────────────────┤\n",
              "│ max_pooling2d_2 (<span style=\"color: #0087ff; text-decoration-color: #0087ff\">MaxPooling2D</span>)       │ (<span style=\"color: #00d7ff; text-decoration-color: #00d7ff\">None</span>, <span style=\"color: #00af00; text-decoration-color: #00af00\">17</span>, <span style=\"color: #00af00; text-decoration-color: #00af00\">17</span>, <span style=\"color: #00af00; text-decoration-color: #00af00\">256</span>)         │               <span style=\"color: #00af00; text-decoration-color: #00af00\">0</span> │\n",
              "├──────────────────────────────────────┼─────────────────────────────┼─────────────────┤\n",
              "│ flatten (<span style=\"color: #0087ff; text-decoration-color: #0087ff\">Flatten</span>)                    │ (<span style=\"color: #00d7ff; text-decoration-color: #00d7ff\">None</span>, <span style=\"color: #00af00; text-decoration-color: #00af00\">73984</span>)               │               <span style=\"color: #00af00; text-decoration-color: #00af00\">0</span> │\n",
              "├──────────────────────────────────────┼─────────────────────────────┼─────────────────┤\n",
              "│ dense (<span style=\"color: #0087ff; text-decoration-color: #0087ff\">Dense</span>)                        │ (<span style=\"color: #00d7ff; text-decoration-color: #00d7ff\">None</span>, <span style=\"color: #00af00; text-decoration-color: #00af00\">256</span>)                 │      <span style=\"color: #00af00; text-decoration-color: #00af00\">18,940,160</span> │\n",
              "├──────────────────────────────────────┼─────────────────────────────┼─────────────────┤\n",
              "│ dropout (<span style=\"color: #0087ff; text-decoration-color: #0087ff\">Dropout</span>)                    │ (<span style=\"color: #00d7ff; text-decoration-color: #00d7ff\">None</span>, <span style=\"color: #00af00; text-decoration-color: #00af00\">256</span>)                 │               <span style=\"color: #00af00; text-decoration-color: #00af00\">0</span> │\n",
              "├──────────────────────────────────────┼─────────────────────────────┼─────────────────┤\n",
              "│ dense_1 (<span style=\"color: #0087ff; text-decoration-color: #0087ff\">Dense</span>)                      │ (<span style=\"color: #00d7ff; text-decoration-color: #00d7ff\">None</span>, <span style=\"color: #00af00; text-decoration-color: #00af00\">38</span>)                  │           <span style=\"color: #00af00; text-decoration-color: #00af00\">9,766</span> │\n",
              "└──────────────────────────────────────┴─────────────────────────────┴─────────────────┘\n",
              "</pre>\n"
            ]
          },
          "metadata": {}
        },
        {
          "output_type": "display_data",
          "data": {
            "text/plain": [
              "\u001b[1m Total params: \u001b[0m\u001b[38;5;34m19,320,742\u001b[0m (73.70 MB)\n"
            ],
            "text/html": [
              "<pre style=\"white-space:pre;overflow-x:auto;line-height:normal;font-family:Menlo,'DejaVu Sans Mono',consolas,'Courier New',monospace\"><span style=\"font-weight: bold\"> Total params: </span><span style=\"color: #00af00; text-decoration-color: #00af00\">19,320,742</span> (73.70 MB)\n",
              "</pre>\n"
            ]
          },
          "metadata": {}
        },
        {
          "output_type": "display_data",
          "data": {
            "text/plain": [
              "\u001b[1m Trainable params: \u001b[0m\u001b[38;5;34m19,320,742\u001b[0m (73.70 MB)\n"
            ],
            "text/html": [
              "<pre style=\"white-space:pre;overflow-x:auto;line-height:normal;font-family:Menlo,'DejaVu Sans Mono',consolas,'Courier New',monospace\"><span style=\"font-weight: bold\"> Trainable params: </span><span style=\"color: #00af00; text-decoration-color: #00af00\">19,320,742</span> (73.70 MB)\n",
              "</pre>\n"
            ]
          },
          "metadata": {}
        },
        {
          "output_type": "display_data",
          "data": {
            "text/plain": [
              "\u001b[1m Non-trainable params: \u001b[0m\u001b[38;5;34m0\u001b[0m (0.00 B)\n"
            ],
            "text/html": [
              "<pre style=\"white-space:pre;overflow-x:auto;line-height:normal;font-family:Menlo,'DejaVu Sans Mono',consolas,'Courier New',monospace\"><span style=\"font-weight: bold\"> Non-trainable params: </span><span style=\"color: #00af00; text-decoration-color: #00af00\">0</span> (0.00 B)\n",
              "</pre>\n"
            ]
          },
          "metadata": {}
        }
      ]
    },
    {
      "cell_type": "code",
      "source": [
        "model.fit(trainning_set, validation_data=validation_set, epochs=10, verbose=1)"
      ],
      "metadata": {
        "colab": {
          "base_uri": "https://localhost:8080/"
        },
        "id": "37-cJ3jh_C3k",
        "outputId": "3679e983-797d-4598-95cc-01e42b44d9b5"
      },
      "execution_count": null,
      "outputs": [
        {
          "output_type": "stream",
          "name": "stdout",
          "text": [
            "Epoch 1/10\n",
            "\u001b[1m2197/2197\u001b[0m \u001b[32m━━━━━━━━━━━━━━━━━━━━\u001b[0m\u001b[37m\u001b[0m \u001b[1m127s\u001b[0m 58ms/step - accuracy: 0.9611 - loss: 0.1247 - val_accuracy: 0.9445 - val_loss: 0.2181\n",
            "Epoch 2/10\n",
            "\u001b[1m2197/2197\u001b[0m \u001b[32m━━━━━━━━━━━━━━━━━━━━\u001b[0m\u001b[37m\u001b[0m \u001b[1m140s\u001b[0m 57ms/step - accuracy: 0.9595 - loss: 0.1275 - val_accuracy: 0.9532 - val_loss: 0.1700\n",
            "Epoch 3/10\n",
            "\u001b[1m2197/2197\u001b[0m \u001b[32m━━━━━━━━━━━━━━━━━━━━\u001b[0m\u001b[37m\u001b[0m \u001b[1m117s\u001b[0m 53ms/step - accuracy: 0.9658 - loss: 0.1093 - val_accuracy: 0.9548 - val_loss: 0.1741\n",
            "Epoch 4/10\n",
            "\u001b[1m2197/2197\u001b[0m \u001b[32m━━━━━━━━━━━━━━━━━━━━\u001b[0m\u001b[37m\u001b[0m \u001b[1m151s\u001b[0m 57ms/step - accuracy: 0.9673 - loss: 0.1111 - val_accuracy: 0.9573 - val_loss: 0.1751\n",
            "Epoch 5/10\n",
            "\u001b[1m2197/2197\u001b[0m \u001b[32m━━━━━━━━━━━━━━━━━━━━\u001b[0m\u001b[37m\u001b[0m \u001b[1m126s\u001b[0m 57ms/step - accuracy: 0.9703 - loss: 0.1004 - val_accuracy: 0.9550 - val_loss: 0.1867\n",
            "Epoch 6/10\n",
            "\u001b[1m2197/2197\u001b[0m \u001b[32m━━━━━━━━━━━━━━━━━━━━\u001b[0m\u001b[37m\u001b[0m \u001b[1m142s\u001b[0m 57ms/step - accuracy: 0.9708 - loss: 0.0978 - val_accuracy: 0.9537 - val_loss: 0.2007\n",
            "Epoch 7/10\n",
            "\u001b[1m2197/2197\u001b[0m \u001b[32m━━━━━━━━━━━━━━━━━━━━\u001b[0m\u001b[37m\u001b[0m \u001b[1m133s\u001b[0m 53ms/step - accuracy: 0.9712 - loss: 0.0980 - val_accuracy: 0.9546 - val_loss: 0.1911\n",
            "Epoch 8/10\n",
            "\u001b[1m2197/2197\u001b[0m \u001b[32m━━━━━━━━━━━━━━━━━━━━\u001b[0m\u001b[37m\u001b[0m \u001b[1m126s\u001b[0m 57ms/step - accuracy: 0.9717 - loss: 0.0998 - val_accuracy: 0.9611 - val_loss: 0.1750\n",
            "Epoch 9/10\n",
            "\u001b[1m2197/2197\u001b[0m \u001b[32m━━━━━━━━━━━━━━━━━━━━\u001b[0m\u001b[37m\u001b[0m \u001b[1m117s\u001b[0m 53ms/step - accuracy: 0.9745 - loss: 0.0863 - val_accuracy: 0.9567 - val_loss: 0.1879\n",
            "Epoch 10/10\n",
            "\u001b[1m2197/2197\u001b[0m \u001b[32m━━━━━━━━━━━━━━━━━━━━\u001b[0m\u001b[37m\u001b[0m \u001b[1m142s\u001b[0m 53ms/step - accuracy: 0.9747 - loss: 0.0877 - val_accuracy: 0.9591 - val_loss: 0.2005\n"
          ]
        },
        {
          "output_type": "execute_result",
          "data": {
            "text/plain": [
              "<keras.src.callbacks.history.History at 0x7f489afe4f10>"
            ]
          },
          "metadata": {},
          "execution_count": 20
        }
      ]
    },
    {
      "cell_type": "code",
      "source": [
        "model.save('pest_prediction.h5')\n",
        "print(\"Model saved to model.h5\")"
      ],
      "metadata": {
        "colab": {
          "base_uri": "https://localhost:8080/"
        },
        "id": "W0yY3EI86Tw2",
        "outputId": "7436a7c6-88f2-4ad1-df20-8e0b746f4512"
      },
      "execution_count": null,
      "outputs": [
        {
          "output_type": "stream",
          "name": "stderr",
          "text": [
            "WARNING:absl:You are saving your model as an HDF5 file via `model.save()` or `keras.saving.save_model(model)`. This file format is considered legacy. We recommend using instead the native Keras format, e.g. `model.save('my_model.keras')` or `keras.saving.save_model(model, 'my_model.keras')`. \n"
          ]
        },
        {
          "output_type": "stream",
          "name": "stdout",
          "text": [
            "Model saved to model.h5\n"
          ]
        }
      ]
    },
    {
      "cell_type": "markdown",
      "source": [
        "# Transfer Learning and Fine tunning"
      ],
      "metadata": {
        "id": "oY8QS67B8uAh"
      }
    },
    {
      "cell_type": "markdown",
      "source": [],
      "metadata": {
        "id": "__OlbFWAmpMN"
      }
    },
    {
      "cell_type": "code",
      "source": [
        "base_model = VGG16(weights='imagenet', include_top=False, input_shape=(150, 150, 3))"
      ],
      "metadata": {
        "id": "EjbVX6DX8a_4",
        "colab": {
          "base_uri": "https://localhost:8080/"
        },
        "outputId": "5b054bc3-cb36-4497-dec8-4cb37152974a"
      },
      "execution_count": null,
      "outputs": [
        {
          "output_type": "stream",
          "name": "stdout",
          "text": [
            "Downloading data from https://storage.googleapis.com/tensorflow/keras-applications/vgg16/vgg16_weights_tf_dim_ordering_tf_kernels_notop.h5\n",
            "\u001b[1m58889256/58889256\u001b[0m \u001b[32m━━━━━━━━━━━━━━━━━━━━\u001b[0m\u001b[37m\u001b[0m \u001b[1m0s\u001b[0m 0us/step\n"
          ]
        }
      ]
    },
    {
      "cell_type": "code",
      "source": [
        "base_model.trainable = True"
      ],
      "metadata": {
        "id": "qWIRqWyJ_Cdr"
      },
      "execution_count": null,
      "outputs": []
    },
    {
      "cell_type": "code",
      "source": [
        "set_trainable = False\n",
        "for layer in base_model.layers:\n",
        "    if layer.name == 'block5_conv1':\n",
        "        set_trainable = True\n",
        "    if set_trainable:\n",
        "        layer.trainable = True\n",
        "    else:\n",
        "        layer.trainable = False"
      ],
      "metadata": {
        "id": "CNhWe00W_RRn"
      },
      "execution_count": null,
      "outputs": []
    },
    {
      "cell_type": "code",
      "source": [
        "x = base_model.output  # Extract features from VGG16\n",
        "x = Flatten()(x)\n",
        "x = Dense(256, activation='relu')(x)\n",
        "x = Dropout(0.5)(x)\n",
        "x = Dense(128, activation='relu')(x)\n",
        "output_layer = Dense(38, activation='softmax')(x)\n"
      ],
      "metadata": {
        "id": "chErjk1G-Zva"
      },
      "execution_count": null,
      "outputs": []
    },
    {
      "cell_type": "code",
      "source": [
        "vgg_model = Model(inputs=base_model.input, outputs=output_layer)\n",
        "\n",
        "# Compile Model\n",
        "vgg_model.compile(optimizer='adam', loss='categorical_crossentropy', metrics=['accuracy'])\n",
        "\n",
        "# Summary\n",
        "vgg_model.summary()"
      ],
      "metadata": {
        "colab": {
          "base_uri": "https://localhost:8080/",
          "height": 897
        },
        "id": "ywFF2KR7FA3I",
        "outputId": "c423a705-04d7-464c-8743-8b939f06410c"
      },
      "execution_count": null,
      "outputs": [
        {
          "output_type": "display_data",
          "data": {
            "text/plain": [
              "\u001b[1mModel: \"functional_10\"\u001b[0m\n"
            ],
            "text/html": [
              "<pre style=\"white-space:pre;overflow-x:auto;line-height:normal;font-family:Menlo,'DejaVu Sans Mono',consolas,'Courier New',monospace\"><span style=\"font-weight: bold\">Model: \"functional_10\"</span>\n",
              "</pre>\n"
            ]
          },
          "metadata": {}
        },
        {
          "output_type": "display_data",
          "data": {
            "text/plain": [
              "┏━━━━━━━━━━━━━━━━━━━━━━━━━━━━━━━━━━━━━━┳━━━━━━━━━━━━━━━━━━━━━━━━━━━━━┳━━━━━━━━━━━━━━━━━┓\n",
              "┃\u001b[1m \u001b[0m\u001b[1mLayer (type)                        \u001b[0m\u001b[1m \u001b[0m┃\u001b[1m \u001b[0m\u001b[1mOutput Shape               \u001b[0m\u001b[1m \u001b[0m┃\u001b[1m \u001b[0m\u001b[1m        Param #\u001b[0m\u001b[1m \u001b[0m┃\n",
              "┡━━━━━━━━━━━━━━━━━━━━━━━━━━━━━━━━━━━━━━╇━━━━━━━━━━━━━━━━━━━━━━━━━━━━━╇━━━━━━━━━━━━━━━━━┩\n",
              "│ input_layer_1 (\u001b[38;5;33mInputLayer\u001b[0m)           │ (\u001b[38;5;45mNone\u001b[0m, \u001b[38;5;34m150\u001b[0m, \u001b[38;5;34m150\u001b[0m, \u001b[38;5;34m3\u001b[0m)         │               \u001b[38;5;34m0\u001b[0m │\n",
              "├──────────────────────────────────────┼─────────────────────────────┼─────────────────┤\n",
              "│ block1_conv1 (\u001b[38;5;33mConv2D\u001b[0m)                │ (\u001b[38;5;45mNone\u001b[0m, \u001b[38;5;34m150\u001b[0m, \u001b[38;5;34m150\u001b[0m, \u001b[38;5;34m64\u001b[0m)        │           \u001b[38;5;34m1,792\u001b[0m │\n",
              "├──────────────────────────────────────┼─────────────────────────────┼─────────────────┤\n",
              "│ block1_conv2 (\u001b[38;5;33mConv2D\u001b[0m)                │ (\u001b[38;5;45mNone\u001b[0m, \u001b[38;5;34m150\u001b[0m, \u001b[38;5;34m150\u001b[0m, \u001b[38;5;34m64\u001b[0m)        │          \u001b[38;5;34m36,928\u001b[0m │\n",
              "├──────────────────────────────────────┼─────────────────────────────┼─────────────────┤\n",
              "│ block1_pool (\u001b[38;5;33mMaxPooling2D\u001b[0m)           │ (\u001b[38;5;45mNone\u001b[0m, \u001b[38;5;34m75\u001b[0m, \u001b[38;5;34m75\u001b[0m, \u001b[38;5;34m64\u001b[0m)          │               \u001b[38;5;34m0\u001b[0m │\n",
              "├──────────────────────────────────────┼─────────────────────────────┼─────────────────┤\n",
              "│ block2_conv1 (\u001b[38;5;33mConv2D\u001b[0m)                │ (\u001b[38;5;45mNone\u001b[0m, \u001b[38;5;34m75\u001b[0m, \u001b[38;5;34m75\u001b[0m, \u001b[38;5;34m128\u001b[0m)         │          \u001b[38;5;34m73,856\u001b[0m │\n",
              "├──────────────────────────────────────┼─────────────────────────────┼─────────────────┤\n",
              "│ block2_conv2 (\u001b[38;5;33mConv2D\u001b[0m)                │ (\u001b[38;5;45mNone\u001b[0m, \u001b[38;5;34m75\u001b[0m, \u001b[38;5;34m75\u001b[0m, \u001b[38;5;34m128\u001b[0m)         │         \u001b[38;5;34m147,584\u001b[0m │\n",
              "├──────────────────────────────────────┼─────────────────────────────┼─────────────────┤\n",
              "│ block2_pool (\u001b[38;5;33mMaxPooling2D\u001b[0m)           │ (\u001b[38;5;45mNone\u001b[0m, \u001b[38;5;34m37\u001b[0m, \u001b[38;5;34m37\u001b[0m, \u001b[38;5;34m128\u001b[0m)         │               \u001b[38;5;34m0\u001b[0m │\n",
              "├──────────────────────────────────────┼─────────────────────────────┼─────────────────┤\n",
              "│ block3_conv1 (\u001b[38;5;33mConv2D\u001b[0m)                │ (\u001b[38;5;45mNone\u001b[0m, \u001b[38;5;34m37\u001b[0m, \u001b[38;5;34m37\u001b[0m, \u001b[38;5;34m256\u001b[0m)         │         \u001b[38;5;34m295,168\u001b[0m │\n",
              "├──────────────────────────────────────┼─────────────────────────────┼─────────────────┤\n",
              "│ block3_conv2 (\u001b[38;5;33mConv2D\u001b[0m)                │ (\u001b[38;5;45mNone\u001b[0m, \u001b[38;5;34m37\u001b[0m, \u001b[38;5;34m37\u001b[0m, \u001b[38;5;34m256\u001b[0m)         │         \u001b[38;5;34m590,080\u001b[0m │\n",
              "├──────────────────────────────────────┼─────────────────────────────┼─────────────────┤\n",
              "│ block3_conv3 (\u001b[38;5;33mConv2D\u001b[0m)                │ (\u001b[38;5;45mNone\u001b[0m, \u001b[38;5;34m37\u001b[0m, \u001b[38;5;34m37\u001b[0m, \u001b[38;5;34m256\u001b[0m)         │         \u001b[38;5;34m590,080\u001b[0m │\n",
              "├──────────────────────────────────────┼─────────────────────────────┼─────────────────┤\n",
              "│ block3_pool (\u001b[38;5;33mMaxPooling2D\u001b[0m)           │ (\u001b[38;5;45mNone\u001b[0m, \u001b[38;5;34m18\u001b[0m, \u001b[38;5;34m18\u001b[0m, \u001b[38;5;34m256\u001b[0m)         │               \u001b[38;5;34m0\u001b[0m │\n",
              "├──────────────────────────────────────┼─────────────────────────────┼─────────────────┤\n",
              "│ block4_conv1 (\u001b[38;5;33mConv2D\u001b[0m)                │ (\u001b[38;5;45mNone\u001b[0m, \u001b[38;5;34m18\u001b[0m, \u001b[38;5;34m18\u001b[0m, \u001b[38;5;34m512\u001b[0m)         │       \u001b[38;5;34m1,180,160\u001b[0m │\n",
              "├──────────────────────────────────────┼─────────────────────────────┼─────────────────┤\n",
              "│ block4_conv2 (\u001b[38;5;33mConv2D\u001b[0m)                │ (\u001b[38;5;45mNone\u001b[0m, \u001b[38;5;34m18\u001b[0m, \u001b[38;5;34m18\u001b[0m, \u001b[38;5;34m512\u001b[0m)         │       \u001b[38;5;34m2,359,808\u001b[0m │\n",
              "├──────────────────────────────────────┼─────────────────────────────┼─────────────────┤\n",
              "│ block4_conv3 (\u001b[38;5;33mConv2D\u001b[0m)                │ (\u001b[38;5;45mNone\u001b[0m, \u001b[38;5;34m18\u001b[0m, \u001b[38;5;34m18\u001b[0m, \u001b[38;5;34m512\u001b[0m)         │       \u001b[38;5;34m2,359,808\u001b[0m │\n",
              "├──────────────────────────────────────┼─────────────────────────────┼─────────────────┤\n",
              "│ block4_pool (\u001b[38;5;33mMaxPooling2D\u001b[0m)           │ (\u001b[38;5;45mNone\u001b[0m, \u001b[38;5;34m9\u001b[0m, \u001b[38;5;34m9\u001b[0m, \u001b[38;5;34m512\u001b[0m)           │               \u001b[38;5;34m0\u001b[0m │\n",
              "├──────────────────────────────────────┼─────────────────────────────┼─────────────────┤\n",
              "│ block5_conv1 (\u001b[38;5;33mConv2D\u001b[0m)                │ (\u001b[38;5;45mNone\u001b[0m, \u001b[38;5;34m9\u001b[0m, \u001b[38;5;34m9\u001b[0m, \u001b[38;5;34m512\u001b[0m)           │       \u001b[38;5;34m2,359,808\u001b[0m │\n",
              "├──────────────────────────────────────┼─────────────────────────────┼─────────────────┤\n",
              "│ block5_conv2 (\u001b[38;5;33mConv2D\u001b[0m)                │ (\u001b[38;5;45mNone\u001b[0m, \u001b[38;5;34m9\u001b[0m, \u001b[38;5;34m9\u001b[0m, \u001b[38;5;34m512\u001b[0m)           │       \u001b[38;5;34m2,359,808\u001b[0m │\n",
              "├──────────────────────────────────────┼─────────────────────────────┼─────────────────┤\n",
              "│ block5_conv3 (\u001b[38;5;33mConv2D\u001b[0m)                │ (\u001b[38;5;45mNone\u001b[0m, \u001b[38;5;34m9\u001b[0m, \u001b[38;5;34m9\u001b[0m, \u001b[38;5;34m512\u001b[0m)           │       \u001b[38;5;34m2,359,808\u001b[0m │\n",
              "├──────────────────────────────────────┼─────────────────────────────┼─────────────────┤\n",
              "│ block5_pool (\u001b[38;5;33mMaxPooling2D\u001b[0m)           │ (\u001b[38;5;45mNone\u001b[0m, \u001b[38;5;34m4\u001b[0m, \u001b[38;5;34m4\u001b[0m, \u001b[38;5;34m512\u001b[0m)           │               \u001b[38;5;34m0\u001b[0m │\n",
              "├──────────────────────────────────────┼─────────────────────────────┼─────────────────┤\n",
              "│ flatten_1 (\u001b[38;5;33mFlatten\u001b[0m)                  │ (\u001b[38;5;45mNone\u001b[0m, \u001b[38;5;34m8192\u001b[0m)                │               \u001b[38;5;34m0\u001b[0m │\n",
              "├──────────────────────────────────────┼─────────────────────────────┼─────────────────┤\n",
              "│ dense_2 (\u001b[38;5;33mDense\u001b[0m)                      │ (\u001b[38;5;45mNone\u001b[0m, \u001b[38;5;34m256\u001b[0m)                 │       \u001b[38;5;34m2,097,408\u001b[0m │\n",
              "├──────────────────────────────────────┼─────────────────────────────┼─────────────────┤\n",
              "│ dropout_1 (\u001b[38;5;33mDropout\u001b[0m)                  │ (\u001b[38;5;45mNone\u001b[0m, \u001b[38;5;34m256\u001b[0m)                 │               \u001b[38;5;34m0\u001b[0m │\n",
              "├──────────────────────────────────────┼─────────────────────────────┼─────────────────┤\n",
              "│ dense_3 (\u001b[38;5;33mDense\u001b[0m)                      │ (\u001b[38;5;45mNone\u001b[0m, \u001b[38;5;34m128\u001b[0m)                 │          \u001b[38;5;34m32,896\u001b[0m │\n",
              "├──────────────────────────────────────┼─────────────────────────────┼─────────────────┤\n",
              "│ dense_4 (\u001b[38;5;33mDense\u001b[0m)                      │ (\u001b[38;5;45mNone\u001b[0m, \u001b[38;5;34m38\u001b[0m)                  │           \u001b[38;5;34m4,902\u001b[0m │\n",
              "└──────────────────────────────────────┴─────────────────────────────┴─────────────────┘\n"
            ],
            "text/html": [
              "<pre style=\"white-space:pre;overflow-x:auto;line-height:normal;font-family:Menlo,'DejaVu Sans Mono',consolas,'Courier New',monospace\">┏━━━━━━━━━━━━━━━━━━━━━━━━━━━━━━━━━━━━━━┳━━━━━━━━━━━━━━━━━━━━━━━━━━━━━┳━━━━━━━━━━━━━━━━━┓\n",
              "┃<span style=\"font-weight: bold\"> Layer (type)                         </span>┃<span style=\"font-weight: bold\"> Output Shape                </span>┃<span style=\"font-weight: bold\">         Param # </span>┃\n",
              "┡━━━━━━━━━━━━━━━━━━━━━━━━━━━━━━━━━━━━━━╇━━━━━━━━━━━━━━━━━━━━━━━━━━━━━╇━━━━━━━━━━━━━━━━━┩\n",
              "│ input_layer_1 (<span style=\"color: #0087ff; text-decoration-color: #0087ff\">InputLayer</span>)           │ (<span style=\"color: #00d7ff; text-decoration-color: #00d7ff\">None</span>, <span style=\"color: #00af00; text-decoration-color: #00af00\">150</span>, <span style=\"color: #00af00; text-decoration-color: #00af00\">150</span>, <span style=\"color: #00af00; text-decoration-color: #00af00\">3</span>)         │               <span style=\"color: #00af00; text-decoration-color: #00af00\">0</span> │\n",
              "├──────────────────────────────────────┼─────────────────────────────┼─────────────────┤\n",
              "│ block1_conv1 (<span style=\"color: #0087ff; text-decoration-color: #0087ff\">Conv2D</span>)                │ (<span style=\"color: #00d7ff; text-decoration-color: #00d7ff\">None</span>, <span style=\"color: #00af00; text-decoration-color: #00af00\">150</span>, <span style=\"color: #00af00; text-decoration-color: #00af00\">150</span>, <span style=\"color: #00af00; text-decoration-color: #00af00\">64</span>)        │           <span style=\"color: #00af00; text-decoration-color: #00af00\">1,792</span> │\n",
              "├──────────────────────────────────────┼─────────────────────────────┼─────────────────┤\n",
              "│ block1_conv2 (<span style=\"color: #0087ff; text-decoration-color: #0087ff\">Conv2D</span>)                │ (<span style=\"color: #00d7ff; text-decoration-color: #00d7ff\">None</span>, <span style=\"color: #00af00; text-decoration-color: #00af00\">150</span>, <span style=\"color: #00af00; text-decoration-color: #00af00\">150</span>, <span style=\"color: #00af00; text-decoration-color: #00af00\">64</span>)        │          <span style=\"color: #00af00; text-decoration-color: #00af00\">36,928</span> │\n",
              "├──────────────────────────────────────┼─────────────────────────────┼─────────────────┤\n",
              "│ block1_pool (<span style=\"color: #0087ff; text-decoration-color: #0087ff\">MaxPooling2D</span>)           │ (<span style=\"color: #00d7ff; text-decoration-color: #00d7ff\">None</span>, <span style=\"color: #00af00; text-decoration-color: #00af00\">75</span>, <span style=\"color: #00af00; text-decoration-color: #00af00\">75</span>, <span style=\"color: #00af00; text-decoration-color: #00af00\">64</span>)          │               <span style=\"color: #00af00; text-decoration-color: #00af00\">0</span> │\n",
              "├──────────────────────────────────────┼─────────────────────────────┼─────────────────┤\n",
              "│ block2_conv1 (<span style=\"color: #0087ff; text-decoration-color: #0087ff\">Conv2D</span>)                │ (<span style=\"color: #00d7ff; text-decoration-color: #00d7ff\">None</span>, <span style=\"color: #00af00; text-decoration-color: #00af00\">75</span>, <span style=\"color: #00af00; text-decoration-color: #00af00\">75</span>, <span style=\"color: #00af00; text-decoration-color: #00af00\">128</span>)         │          <span style=\"color: #00af00; text-decoration-color: #00af00\">73,856</span> │\n",
              "├──────────────────────────────────────┼─────────────────────────────┼─────────────────┤\n",
              "│ block2_conv2 (<span style=\"color: #0087ff; text-decoration-color: #0087ff\">Conv2D</span>)                │ (<span style=\"color: #00d7ff; text-decoration-color: #00d7ff\">None</span>, <span style=\"color: #00af00; text-decoration-color: #00af00\">75</span>, <span style=\"color: #00af00; text-decoration-color: #00af00\">75</span>, <span style=\"color: #00af00; text-decoration-color: #00af00\">128</span>)         │         <span style=\"color: #00af00; text-decoration-color: #00af00\">147,584</span> │\n",
              "├──────────────────────────────────────┼─────────────────────────────┼─────────────────┤\n",
              "│ block2_pool (<span style=\"color: #0087ff; text-decoration-color: #0087ff\">MaxPooling2D</span>)           │ (<span style=\"color: #00d7ff; text-decoration-color: #00d7ff\">None</span>, <span style=\"color: #00af00; text-decoration-color: #00af00\">37</span>, <span style=\"color: #00af00; text-decoration-color: #00af00\">37</span>, <span style=\"color: #00af00; text-decoration-color: #00af00\">128</span>)         │               <span style=\"color: #00af00; text-decoration-color: #00af00\">0</span> │\n",
              "├──────────────────────────────────────┼─────────────────────────────┼─────────────────┤\n",
              "│ block3_conv1 (<span style=\"color: #0087ff; text-decoration-color: #0087ff\">Conv2D</span>)                │ (<span style=\"color: #00d7ff; text-decoration-color: #00d7ff\">None</span>, <span style=\"color: #00af00; text-decoration-color: #00af00\">37</span>, <span style=\"color: #00af00; text-decoration-color: #00af00\">37</span>, <span style=\"color: #00af00; text-decoration-color: #00af00\">256</span>)         │         <span style=\"color: #00af00; text-decoration-color: #00af00\">295,168</span> │\n",
              "├──────────────────────────────────────┼─────────────────────────────┼─────────────────┤\n",
              "│ block3_conv2 (<span style=\"color: #0087ff; text-decoration-color: #0087ff\">Conv2D</span>)                │ (<span style=\"color: #00d7ff; text-decoration-color: #00d7ff\">None</span>, <span style=\"color: #00af00; text-decoration-color: #00af00\">37</span>, <span style=\"color: #00af00; text-decoration-color: #00af00\">37</span>, <span style=\"color: #00af00; text-decoration-color: #00af00\">256</span>)         │         <span style=\"color: #00af00; text-decoration-color: #00af00\">590,080</span> │\n",
              "├──────────────────────────────────────┼─────────────────────────────┼─────────────────┤\n",
              "│ block3_conv3 (<span style=\"color: #0087ff; text-decoration-color: #0087ff\">Conv2D</span>)                │ (<span style=\"color: #00d7ff; text-decoration-color: #00d7ff\">None</span>, <span style=\"color: #00af00; text-decoration-color: #00af00\">37</span>, <span style=\"color: #00af00; text-decoration-color: #00af00\">37</span>, <span style=\"color: #00af00; text-decoration-color: #00af00\">256</span>)         │         <span style=\"color: #00af00; text-decoration-color: #00af00\">590,080</span> │\n",
              "├──────────────────────────────────────┼─────────────────────────────┼─────────────────┤\n",
              "│ block3_pool (<span style=\"color: #0087ff; text-decoration-color: #0087ff\">MaxPooling2D</span>)           │ (<span style=\"color: #00d7ff; text-decoration-color: #00d7ff\">None</span>, <span style=\"color: #00af00; text-decoration-color: #00af00\">18</span>, <span style=\"color: #00af00; text-decoration-color: #00af00\">18</span>, <span style=\"color: #00af00; text-decoration-color: #00af00\">256</span>)         │               <span style=\"color: #00af00; text-decoration-color: #00af00\">0</span> │\n",
              "├──────────────────────────────────────┼─────────────────────────────┼─────────────────┤\n",
              "│ block4_conv1 (<span style=\"color: #0087ff; text-decoration-color: #0087ff\">Conv2D</span>)                │ (<span style=\"color: #00d7ff; text-decoration-color: #00d7ff\">None</span>, <span style=\"color: #00af00; text-decoration-color: #00af00\">18</span>, <span style=\"color: #00af00; text-decoration-color: #00af00\">18</span>, <span style=\"color: #00af00; text-decoration-color: #00af00\">512</span>)         │       <span style=\"color: #00af00; text-decoration-color: #00af00\">1,180,160</span> │\n",
              "├──────────────────────────────────────┼─────────────────────────────┼─────────────────┤\n",
              "│ block4_conv2 (<span style=\"color: #0087ff; text-decoration-color: #0087ff\">Conv2D</span>)                │ (<span style=\"color: #00d7ff; text-decoration-color: #00d7ff\">None</span>, <span style=\"color: #00af00; text-decoration-color: #00af00\">18</span>, <span style=\"color: #00af00; text-decoration-color: #00af00\">18</span>, <span style=\"color: #00af00; text-decoration-color: #00af00\">512</span>)         │       <span style=\"color: #00af00; text-decoration-color: #00af00\">2,359,808</span> │\n",
              "├──────────────────────────────────────┼─────────────────────────────┼─────────────────┤\n",
              "│ block4_conv3 (<span style=\"color: #0087ff; text-decoration-color: #0087ff\">Conv2D</span>)                │ (<span style=\"color: #00d7ff; text-decoration-color: #00d7ff\">None</span>, <span style=\"color: #00af00; text-decoration-color: #00af00\">18</span>, <span style=\"color: #00af00; text-decoration-color: #00af00\">18</span>, <span style=\"color: #00af00; text-decoration-color: #00af00\">512</span>)         │       <span style=\"color: #00af00; text-decoration-color: #00af00\">2,359,808</span> │\n",
              "├──────────────────────────────────────┼─────────────────────────────┼─────────────────┤\n",
              "│ block4_pool (<span style=\"color: #0087ff; text-decoration-color: #0087ff\">MaxPooling2D</span>)           │ (<span style=\"color: #00d7ff; text-decoration-color: #00d7ff\">None</span>, <span style=\"color: #00af00; text-decoration-color: #00af00\">9</span>, <span style=\"color: #00af00; text-decoration-color: #00af00\">9</span>, <span style=\"color: #00af00; text-decoration-color: #00af00\">512</span>)           │               <span style=\"color: #00af00; text-decoration-color: #00af00\">0</span> │\n",
              "├──────────────────────────────────────┼─────────────────────────────┼─────────────────┤\n",
              "│ block5_conv1 (<span style=\"color: #0087ff; text-decoration-color: #0087ff\">Conv2D</span>)                │ (<span style=\"color: #00d7ff; text-decoration-color: #00d7ff\">None</span>, <span style=\"color: #00af00; text-decoration-color: #00af00\">9</span>, <span style=\"color: #00af00; text-decoration-color: #00af00\">9</span>, <span style=\"color: #00af00; text-decoration-color: #00af00\">512</span>)           │       <span style=\"color: #00af00; text-decoration-color: #00af00\">2,359,808</span> │\n",
              "├──────────────────────────────────────┼─────────────────────────────┼─────────────────┤\n",
              "│ block5_conv2 (<span style=\"color: #0087ff; text-decoration-color: #0087ff\">Conv2D</span>)                │ (<span style=\"color: #00d7ff; text-decoration-color: #00d7ff\">None</span>, <span style=\"color: #00af00; text-decoration-color: #00af00\">9</span>, <span style=\"color: #00af00; text-decoration-color: #00af00\">9</span>, <span style=\"color: #00af00; text-decoration-color: #00af00\">512</span>)           │       <span style=\"color: #00af00; text-decoration-color: #00af00\">2,359,808</span> │\n",
              "├──────────────────────────────────────┼─────────────────────────────┼─────────────────┤\n",
              "│ block5_conv3 (<span style=\"color: #0087ff; text-decoration-color: #0087ff\">Conv2D</span>)                │ (<span style=\"color: #00d7ff; text-decoration-color: #00d7ff\">None</span>, <span style=\"color: #00af00; text-decoration-color: #00af00\">9</span>, <span style=\"color: #00af00; text-decoration-color: #00af00\">9</span>, <span style=\"color: #00af00; text-decoration-color: #00af00\">512</span>)           │       <span style=\"color: #00af00; text-decoration-color: #00af00\">2,359,808</span> │\n",
              "├──────────────────────────────────────┼─────────────────────────────┼─────────────────┤\n",
              "│ block5_pool (<span style=\"color: #0087ff; text-decoration-color: #0087ff\">MaxPooling2D</span>)           │ (<span style=\"color: #00d7ff; text-decoration-color: #00d7ff\">None</span>, <span style=\"color: #00af00; text-decoration-color: #00af00\">4</span>, <span style=\"color: #00af00; text-decoration-color: #00af00\">4</span>, <span style=\"color: #00af00; text-decoration-color: #00af00\">512</span>)           │               <span style=\"color: #00af00; text-decoration-color: #00af00\">0</span> │\n",
              "├──────────────────────────────────────┼─────────────────────────────┼─────────────────┤\n",
              "│ flatten_1 (<span style=\"color: #0087ff; text-decoration-color: #0087ff\">Flatten</span>)                  │ (<span style=\"color: #00d7ff; text-decoration-color: #00d7ff\">None</span>, <span style=\"color: #00af00; text-decoration-color: #00af00\">8192</span>)                │               <span style=\"color: #00af00; text-decoration-color: #00af00\">0</span> │\n",
              "├──────────────────────────────────────┼─────────────────────────────┼─────────────────┤\n",
              "│ dense_2 (<span style=\"color: #0087ff; text-decoration-color: #0087ff\">Dense</span>)                      │ (<span style=\"color: #00d7ff; text-decoration-color: #00d7ff\">None</span>, <span style=\"color: #00af00; text-decoration-color: #00af00\">256</span>)                 │       <span style=\"color: #00af00; text-decoration-color: #00af00\">2,097,408</span> │\n",
              "├──────────────────────────────────────┼─────────────────────────────┼─────────────────┤\n",
              "│ dropout_1 (<span style=\"color: #0087ff; text-decoration-color: #0087ff\">Dropout</span>)                  │ (<span style=\"color: #00d7ff; text-decoration-color: #00d7ff\">None</span>, <span style=\"color: #00af00; text-decoration-color: #00af00\">256</span>)                 │               <span style=\"color: #00af00; text-decoration-color: #00af00\">0</span> │\n",
              "├──────────────────────────────────────┼─────────────────────────────┼─────────────────┤\n",
              "│ dense_3 (<span style=\"color: #0087ff; text-decoration-color: #0087ff\">Dense</span>)                      │ (<span style=\"color: #00d7ff; text-decoration-color: #00d7ff\">None</span>, <span style=\"color: #00af00; text-decoration-color: #00af00\">128</span>)                 │          <span style=\"color: #00af00; text-decoration-color: #00af00\">32,896</span> │\n",
              "├──────────────────────────────────────┼─────────────────────────────┼─────────────────┤\n",
              "│ dense_4 (<span style=\"color: #0087ff; text-decoration-color: #0087ff\">Dense</span>)                      │ (<span style=\"color: #00d7ff; text-decoration-color: #00d7ff\">None</span>, <span style=\"color: #00af00; text-decoration-color: #00af00\">38</span>)                  │           <span style=\"color: #00af00; text-decoration-color: #00af00\">4,902</span> │\n",
              "└──────────────────────────────────────┴─────────────────────────────┴─────────────────┘\n",
              "</pre>\n"
            ]
          },
          "metadata": {}
        },
        {
          "output_type": "display_data",
          "data": {
            "text/plain": [
              "\u001b[1m Total params: \u001b[0m\u001b[38;5;34m16,849,894\u001b[0m (64.28 MB)\n"
            ],
            "text/html": [
              "<pre style=\"white-space:pre;overflow-x:auto;line-height:normal;font-family:Menlo,'DejaVu Sans Mono',consolas,'Courier New',monospace\"><span style=\"font-weight: bold\"> Total params: </span><span style=\"color: #00af00; text-decoration-color: #00af00\">16,849,894</span> (64.28 MB)\n",
              "</pre>\n"
            ]
          },
          "metadata": {}
        },
        {
          "output_type": "display_data",
          "data": {
            "text/plain": [
              "\u001b[1m Trainable params: \u001b[0m\u001b[38;5;34m9,214,630\u001b[0m (35.15 MB)\n"
            ],
            "text/html": [
              "<pre style=\"white-space:pre;overflow-x:auto;line-height:normal;font-family:Menlo,'DejaVu Sans Mono',consolas,'Courier New',monospace\"><span style=\"font-weight: bold\"> Trainable params: </span><span style=\"color: #00af00; text-decoration-color: #00af00\">9,214,630</span> (35.15 MB)\n",
              "</pre>\n"
            ]
          },
          "metadata": {}
        },
        {
          "output_type": "display_data",
          "data": {
            "text/plain": [
              "\u001b[1m Non-trainable params: \u001b[0m\u001b[38;5;34m7,635,264\u001b[0m (29.13 MB)\n"
            ],
            "text/html": [
              "<pre style=\"white-space:pre;overflow-x:auto;line-height:normal;font-family:Menlo,'DejaVu Sans Mono',consolas,'Courier New',monospace\"><span style=\"font-weight: bold\"> Non-trainable params: </span><span style=\"color: #00af00; text-decoration-color: #00af00\">7,635,264</span> (29.13 MB)\n",
              "</pre>\n"
            ]
          },
          "metadata": {}
        }
      ]
    },
    {
      "cell_type": "code",
      "source": [
        "history = vgg_model.fit(\n",
        "    trainning_set,\n",
        "    validation_data=validation_set,\n",
        "    epochs=10,\n",
        "    verbose=1\n",
        ")"
      ],
      "metadata": {
        "id": "Vr4LK4-boh8G"
      },
      "execution_count": null,
      "outputs": []
    },
    {
      "cell_type": "code",
      "source": [
        "history.history"
      ],
      "metadata": {
        "id": "8SFdPE6r02Hl",
        "colab": {
          "base_uri": "https://localhost:8080/"
        },
        "outputId": "77ad964b-da6a-4cc2-fe4d-a4204063925d"
      },
      "execution_count": null,
      "outputs": [
        {
          "output_type": "execute_result",
          "data": {
            "text/plain": [
              "{'accuracy': [0.5866420269012451,\n",
              "  0.847770094871521,\n",
              "  0.8842876553535461,\n",
              "  0.9012731909751892,\n",
              "  0.9144889116287231,\n",
              "  0.9200227856636047,\n",
              "  0.9267799854278564,\n",
              "  0.9302510619163513,\n",
              "  0.9361405372619629,\n",
              "  0.9377195835113525],\n",
              " 'loss': [1.3762915134429932,\n",
              "  0.48741286993026733,\n",
              "  0.3832910358905792,\n",
              "  0.3342948853969574,\n",
              "  0.29550233483314514,\n",
              "  0.2821987271308899,\n",
              "  0.26663142442703247,\n",
              "  0.25918564200401306,\n",
              "  0.24439629912376404,\n",
              "  0.24196133017539978],\n",
              " 'val_accuracy': [0.837582528591156,\n",
              "  0.8840200304985046,\n",
              "  0.8976781368255615,\n",
              "  0.9076940417289734,\n",
              "  0.9061574935913086,\n",
              "  0.9140109419822693,\n",
              "  0.9019463062286377,\n",
              "  0.9187912344932556,\n",
              "  0.919474184513092,\n",
              "  0.9253357648849487],\n",
              " 'val_loss': [0.509617030620575,\n",
              "  0.37716051936149597,\n",
              "  0.33024105429649353,\n",
              "  0.34159576892852783,\n",
              "  0.3280544877052307,\n",
              "  0.30483341217041016,\n",
              "  0.37151074409484863,\n",
              "  0.31179678440093994,\n",
              "  0.3112518787384033,\n",
              "  0.29091358184814453]}"
            ]
          },
          "metadata": {},
          "execution_count": 41
        }
      ]
    },
    {
      "cell_type": "code",
      "source": [
        "train_accurary = history.history['accuracy']\n",
        "val_accuracy = history.history['val_accuracy']\n",
        "train_loss = history.history['loss']\n",
        "val_loss = history.history['val_loss']"
      ],
      "metadata": {
        "id": "0PhT6--Lm04o"
      },
      "execution_count": null,
      "outputs": []
    },
    {
      "cell_type": "code",
      "source": [
        "plt.figure(figsize=(10, 10))\n",
        "plt.subplot(1, 2, 1)\n",
        "plt.plot(train_accurary, label='Training Accuracy')\n",
        "plt.plot(val_accuracy, label='Validation Accuracy')\n",
        "plt.legend(loc='lower right')\n",
        "plt.title('Training and Validation Accuracy')"
      ],
      "metadata": {
        "colab": {
          "base_uri": "https://localhost:8080/",
          "height": 871
        },
        "id": "xKwm--pLnESm",
        "outputId": "b2a63692-94ee-46d5-bd9d-bb9ae984556a"
      },
      "execution_count": null,
      "outputs": [
        {
          "output_type": "execute_result",
          "data": {
            "text/plain": [
              "Text(0.5, 1.0, 'Training and Validation Accuracy')"
            ]
          },
          "metadata": {},
          "execution_count": 43
        },
        {
          "output_type": "display_data",
          "data": {
            "text/plain": [
              "<Figure size 1000x1000 with 1 Axes>"
            ],
            "image/png": "[encoded data removed]"
          },
          "metadata": {}
        }
      ]
    },
    {
      "cell_type": "code",
      "source": [
        "plt.subplot(1, 2, 2)\n",
        "plt.plot(train_loss, label='Training loss')\n",
        "plt.plot(val_loss, label='Validation loss')\n",
        "plt.legend(loc='lower right')\n",
        "plt.title('Training and Validation Loss')\n",
        "plt.show()"
      ],
      "metadata": {
        "id": "aXvoR-E49wvC",
        "colab": {
          "base_uri": "https://localhost:8080/",
          "height": 452
        },
        "outputId": "9f336b22-2565-417c-f0b7-7a7f7cf0cdbd"
      },
      "execution_count": null,
      "outputs": [
        {
          "output_type": "display_data",
          "data": {
            "text/plain": [
              "<Figure size 640x480 with 1 Axes>"
            ],
            "image/png": "[encoded data removed]"
          },
          "metadata": {}
        }
      ]
    },
    {
      "cell_type": "code",
      "source": [],
      "metadata": {
        "id": "zB-LEzzdoICA"
      },
      "execution_count": null,
      "outputs": []
    }
  ]
}